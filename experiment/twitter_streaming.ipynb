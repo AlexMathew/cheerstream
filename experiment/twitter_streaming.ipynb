{
 "cells": [
  {
   "cell_type": "code",
   "execution_count": 1,
   "id": "4bbd4489",
   "metadata": {},
   "outputs": [],
   "source": [
    "import requests"
   ]
  },
  {
   "cell_type": "code",
   "execution_count": 2,
   "id": "fef30914",
   "metadata": {},
   "outputs": [],
   "source": [
    "import os\n",
    "import json"
   ]
  },
  {
   "cell_type": "code",
   "execution_count": 3,
   "id": "0ef70054",
   "metadata": {},
   "outputs": [],
   "source": [
    "TWITTER_BEARER_TOKEN = os.getenv(\"TWITTER_BEARER_TOKEN\")"
   ]
  },
  {
   "cell_type": "code",
   "execution_count": 4,
   "id": "fe74e098",
   "metadata": {},
   "outputs": [],
   "source": [
    "def get_rules():\n",
    "    resp = requests.get(\n",
    "        \"https://api.twitter.com/2/tweets/search/stream/rules\",\n",
    "        headers={\n",
    "            \"Authorization\": f\"Bearer {TWITTER_BEARER_TOKEN}\",\n",
    "        },\n",
    "    )\n",
    "    \n",
    "    print(json.dumps(resp.json(), indent=4))\n",
    "    return resp.json()"
   ]
  },
  {
   "cell_type": "code",
   "execution_count": 5,
   "id": "814af2d4",
   "metadata": {},
   "outputs": [
    {
     "name": "stdout",
     "output_type": "stream",
     "text": [
      "{\n",
      "    \"data\": [\n",
      "        {\n",
      "            \"id\": \"1442892450318585867\",\n",
      "            \"value\": \"from:cricbuzz\"\n",
      "        },\n",
      "        {\n",
      "            \"id\": \"1442892450318585868\",\n",
      "            \"value\": \"from:ipl\"\n",
      "        },\n",
      "        {\n",
      "            \"id\": \"1442892450318585869\",\n",
      "            \"value\": \"from:espncricinfo\"\n",
      "        }\n",
      "    ],\n",
      "    \"meta\": {\n",
      "        \"sent\": \"2021-10-01T17:41:21.316Z\",\n",
      "        \"result_count\": 3\n",
      "    }\n",
      "}\n"
     ]
    },
    {
     "data": {
      "text/plain": [
       "{'data': [{'id': '1442892450318585867', 'value': 'from:cricbuzz'},\n",
       "  {'id': '1442892450318585868', 'value': 'from:ipl'},\n",
       "  {'id': '1442892450318585869', 'value': 'from:espncricinfo'}],\n",
       " 'meta': {'sent': '2021-10-01T17:41:21.316Z', 'result_count': 3}}"
      ]
     },
     "execution_count": 5,
     "metadata": {},
     "output_type": "execute_result"
    }
   ],
   "source": [
    "get_rules()"
   ]
  },
  {
   "cell_type": "code",
   "execution_count": 6,
   "id": "a3380dcc",
   "metadata": {},
   "outputs": [],
   "source": [
    "def add_rules(rules):\n",
    "    resp = requests.post(\n",
    "        \"https://api.twitter.com/2/tweets/search/stream/rules\",\n",
    "        json={\"add\": rules},\n",
    "        headers={\n",
    "            \"Authorization\": f\"Bearer {TWITTER_BEARER_TOKEN}\",\n",
    "        },\n",
    "    )\n",
    "\n",
    "    print(json.dumps(resp.json(), indent=4))\n",
    "    return resp.json()"
   ]
  },
  {
   "cell_type": "code",
   "execution_count": 14,
   "id": "8b2ecfaa",
   "metadata": {},
   "outputs": [],
   "source": [
    "rules = [\n",
    "    {\"value\": \"from:ipl OR from:cricbuzz OR from:espncricinfo OR from:kkriders OR from:punjabkingsipl\"}\n",
    "#     {\"value\": \"from:ipl\"}\n",
    "]"
   ]
  },
  {
   "cell_type": "code",
   "execution_count": 12,
   "id": "9c5de1c1",
   "metadata": {},
   "outputs": [
    {
     "name": "stdout",
     "output_type": "stream",
     "text": [
      "{\n",
      "    \"data\": [\n",
      "        {\n",
      "            \"value\": \"#VIVOIPL #SRHvRR\",\n",
      "            \"id\": \"1442487770170101769\"\n",
      "        }\n",
      "    ],\n",
      "    \"meta\": {\n",
      "        \"sent\": \"2021-09-27T13:54:19.233Z\",\n",
      "        \"summary\": {\n",
      "            \"created\": 1,\n",
      "            \"not_created\": 0,\n",
      "            \"valid\": 1,\n",
      "            \"invalid\": 0\n",
      "        }\n",
      "    }\n",
      "}\n"
     ]
    }
   ],
   "source": [
    "add_rules(rules)"
   ]
  },
  {
   "cell_type": "code",
   "execution_count": 8,
   "id": "ebc73b92",
   "metadata": {},
   "outputs": [],
   "source": [
    "def delete_rules(rules):\n",
    "    if rules[\"meta\"][\"result_count\"] == 0:\n",
    "        return\n",
    "\n",
    "    ids = [rule[\"id\"] for rule in rules[\"data\"]]\n",
    "    resp = requests.post(\n",
    "        \"https://api.twitter.com/2/tweets/search/stream/rules\",\n",
    "        json={\"delete\": {\"ids\": ids}},\n",
    "        headers={\n",
    "            \"Authorization\": f\"Bearer {TWITTER_BEARER_TOKEN}\",\n",
    "        },\n",
    "    )\n",
    "\n",
    "    print(json.dumps(resp.json(), indent=4))\n",
    "    return resp.json()"
   ]
  },
  {
   "cell_type": "code",
   "execution_count": 24,
   "id": "6e7c1ea8",
   "metadata": {},
   "outputs": [
    {
     "name": "stdout",
     "output_type": "stream",
     "text": [
      "{\n",
      "    \"data\": [\n",
      "        {\n",
      "            \"id\": \"1442487770170101769\",\n",
      "            \"value\": \"#VIVOIPL #SRHvRR\"\n",
      "        }\n",
      "    ],\n",
      "    \"meta\": {\n",
      "        \"sent\": \"2021-09-27T15:56:38.291Z\",\n",
      "        \"result_count\": 1\n",
      "    }\n",
      "}\n",
      "{\n",
      "    \"meta\": {\n",
      "        \"sent\": \"2021-09-27T15:56:38.814Z\",\n",
      "        \"summary\": {\n",
      "            \"deleted\": 1,\n",
      "            \"not_deleted\": 0\n",
      "        }\n",
      "    }\n",
      "}\n"
     ]
    },
    {
     "data": {
      "text/plain": [
       "{'meta': {'sent': '2021-09-27T15:56:38.814Z',\n",
       "  'summary': {'deleted': 1, 'not_deleted': 0}}}"
      ]
     },
     "execution_count": 24,
     "metadata": {},
     "output_type": "execute_result"
    }
   ],
   "source": [
    "added_rules = get_rules()\n",
    "delete_rules(added_rules)"
   ]
  },
  {
   "cell_type": "code",
   "execution_count": 9,
   "id": "245f612b",
   "metadata": {},
   "outputs": [],
   "source": [
    "def get_stream():\n",
    "    resp = requests.get(\n",
    "        \"https://api.twitter.com/2/tweets/search/stream\",\n",
    "        stream=True,\n",
    "        headers={\n",
    "            \"Authorization\": f\"Bearer {TWITTER_BEARER_TOKEN}\",\n",
    "        },\n",
    "    )\n",
    "    \n",
    "    for line in resp.iter_lines():\n",
    "        if line:\n",
    "            tweet = json.loads(line)\n",
    "            print(json.dumps(tweet, indent=4, sort_keys=True))"
   ]
  },
  {
   "cell_type": "code",
   "execution_count": null,
   "id": "18ffc518",
   "metadata": {},
   "outputs": [],
   "source": [
    "get_stream()"
   ]
  },
  {
   "cell_type": "code",
   "execution_count": 10,
   "id": "89b0b799",
   "metadata": {},
   "outputs": [],
   "source": [
    "def run_stream():\n",
    "    added_rules = get_rules()\n",
    "    delete_rules(added_rules)\n",
    "    add_rules(rules)\n",
    "    get_stream()"
   ]
  },
  {
   "cell_type": "code",
   "execution_count": 15,
   "id": "770b56f5",
   "metadata": {},
   "outputs": [
    {
     "name": "stdout",
     "output_type": "stream",
     "text": [
      "{\n",
      "    \"data\": [\n",
      "        {\n",
      "            \"id\": \"1443996569133465600\",\n",
      "            \"value\": \"from:ipl OR from:cricbuzz OR from:espncricinfo\"\n",
      "        }\n",
      "    ],\n",
      "    \"meta\": {\n",
      "        \"sent\": \"2021-10-01T17:54:14.753Z\",\n",
      "        \"result_count\": 1\n",
      "    }\n",
      "}\n",
      "{\n",
      "    \"meta\": {\n",
      "        \"sent\": \"2021-10-01T17:54:15.687Z\",\n",
      "        \"summary\": {\n",
      "            \"deleted\": 1,\n",
      "            \"not_deleted\": 0\n",
      "        }\n",
      "    }\n",
      "}\n",
      "{\n",
      "    \"data\": [\n",
      "        {\n",
      "            \"value\": \"from:ipl OR from:cricbuzz OR from:espncricinfo OR from:kkriders OR from:punjabkingsipl\",\n",
      "            \"id\": \"1443997706523856896\"\n",
      "        }\n",
      "    ],\n",
      "    \"meta\": {\n",
      "        \"sent\": \"2021-10-01T17:54:16.116Z\",\n",
      "        \"summary\": {\n",
      "            \"created\": 1,\n",
      "            \"not_created\": 0,\n",
      "            \"valid\": 1,\n",
      "            \"invalid\": 0\n",
      "        }\n",
      "    }\n",
      "}\n",
      "{\n",
      "    \"data\": {\n",
      "        \"id\": \"1443997840494182401\",\n",
      "        \"text\": \"Match 45. 18.6: S Mavi to KL Rahul, 4 runs, 161/4 https://t.co/C6sG1POS40 #KKRvPBKS #VIVOIPL #IPL2021\"\n",
      "    },\n",
      "    \"matching_rules\": [\n",
      "        {\n",
      "            \"id\": \"1443997706523856896\",\n",
      "            \"tag\": \"\"\n",
      "        }\n",
      "    ]\n",
      "}\n",
      "{\n",
      "    \"data\": {\n",
      "        \"id\": \"1443998116391231495\",\n",
      "        \"text\": \"Full toss and it's slammed behind point by Rahul! \\ud83d\\udcaa\\ud83d\\udcaa\\n\\n5 needed from 6! \\n\\n#SaddaPunjab #IPL2021 #PunjabKings #KKRvPBKS\"\n",
      "    },\n",
      "    \"matching_rules\": [\n",
      "        {\n",
      "            \"id\": \"1443997706523856896\",\n",
      "            \"tag\": \"\"\n",
      "        }\n",
      "    ]\n",
      "}\n",
      "{\n",
      "    \"data\": {\n",
      "        \"id\": \"1443998669233999874\",\n",
      "        \"text\": \"Mavi to Rahul -- \\n\\n\\ud83d\\udd38 Rahul Tripathi takes a stunning catch in the deep and claims it\\n\\n\\ud83d\\udd38 The umpires check, no soft signal \\n\\n\\ud83d\\udd38 And after a million replays, the third umpire says the ball is touching the ground, and gives it NOT OUT. Big decision this! \\n\\n#IPL2021 #KKRvPBKS https://t.co/cKoj6V3II0\"\n",
      "    },\n",
      "    \"matching_rules\": [\n",
      "        {\n",
      "            \"id\": \"1443997706523856896\",\n",
      "            \"tag\": \"\"\n",
      "        }\n",
      "    ]\n",
      "}\n",
      "{\n",
      "    \"data\": {\n",
      "        \"id\": \"1443998746635763714\",\n",
      "        \"text\": \"HOPE.\"\n",
      "    },\n",
      "    \"matching_rules\": [\n",
      "        {\n",
      "            \"id\": \"1443997706523856896\",\n",
      "            \"tag\": \"\"\n",
      "        }\n",
      "    ]\n",
      "}\n",
      "{\n",
      "    \"data\": {\n",
      "        \"id\": \"1443998828886069250\",\n",
      "        \"text\": \"NOOOOOOOO! \\n\\nKL Rahul is caught at long-off.\\ud83d\\ude2d\\n\\n4 needed off 4\"\n",
      "    },\n",
      "    \"matching_rules\": [\n",
      "        {\n",
      "            \"id\": \"1443997706523856896\",\n",
      "            \"tag\": \"\"\n",
      "        }\n",
      "    ]\n",
      "}\n",
      "{\n",
      "    \"data\": {\n",
      "        \"id\": \"1443998881717522432\",\n",
      "        \"text\": \"KL Rahul is OUT!\\n\\nFour needed in four balls. Surely not... \\ud83d\\udc40\\n\\n#IPL2021 | Follow #KKRvPBKS \\ud83d\\udc47\\nhttps://t.co/9q43V1p88o https://t.co/MZBTCaahD4\"\n",
      "    },\n",
      "    \"matching_rules\": [\n",
      "        {\n",
      "            \"id\": \"1443997706523856896\",\n",
      "            \"tag\": \"\"\n",
      "        }\n",
      "    ]\n",
      "}\n",
      "{\n",
      "    \"data\": {\n",
      "        \"id\": \"1443998940089757698\",\n",
      "        \"text\": \"Match 45. 19.2: WICKET! KL Rahul (67) is out, c Shivam Mavi b Venkatesh Iyer, 162/5 https://t.co/C6sG1POS40 #KKRvPBKS #VIVOIPL #IPL2021\"\n",
      "    },\n",
      "    \"matching_rules\": [\n",
      "        {\n",
      "            \"id\": \"1443997706523856896\",\n",
      "            \"tag\": \"\"\n",
      "        }\n",
      "    ]\n",
      "}\n",
      "{\n",
      "    \"data\": {\n",
      "        \"id\": \"1443998947090083844\",\n",
      "        \"text\": \"Match 45. 19.3: V Iyer to S Khan, 6 runs, 168/5 https://t.co/C6sG1POS40 #KKRvPBKS #VIVOIPL #IPL2021\"\n",
      "    },\n",
      "    \"matching_rules\": [\n",
      "        {\n",
      "            \"id\": \"1443997706523856896\",\n",
      "            \"tag\": \"\"\n",
      "        }\n",
      "    ]\n",
      "}\n",
      "{\n",
      "    \"data\": {\n",
      "        \"id\": \"1443999124618100741\",\n",
      "        \"text\": \"Match 45. It's all over! Punjab Kings won by 5 wickets https://t.co/C6sG1POS40 #KKRvPBKS #VIVOIPL #IPL2021\"\n",
      "    },\n",
      "    \"matching_rules\": [\n",
      "        {\n",
      "            \"id\": \"1443997706523856896\",\n",
      "            \"tag\": \"\"\n",
      "        }\n",
      "    ]\n",
      "}\n",
      "{\n",
      "    \"data\": {\n",
      "        \"id\": \"1443999139608481794\",\n",
      "        \"text\": \"\\ud83d\\udc94\"\n",
      "    },\n",
      "    \"matching_rules\": [\n",
      "        {\n",
      "            \"id\": \"1443997706523856896\",\n",
      "            \"tag\": \"\"\n",
      "        }\n",
      "    ]\n",
      "}\n",
      "{\n",
      "    \"data\": {\n",
      "        \"id\": \"1443999207472304132\",\n",
      "        \"text\": \"Rahul parries it! \\ud83d\\udd7a\\n\\nSRK hits the winning runs! \\ud83d\\ude09\\n\\n#SaddaPunjab #IPL2021 #PunjabKings #KKRvPBKS\"\n",
      "    },\n",
      "    \"matching_rules\": [\n",
      "        {\n",
      "            \"id\": \"1443997706523856896\",\n",
      "            \"tag\": \"\"\n",
      "        }\n",
      "    ]\n",
      "}\n",
      "{\n",
      "    \"data\": {\n",
      "        \"id\": \"1443999353022992384\",\n",
      "        \"text\": \"KL Rahul \\u0915\\u0940 \\u0915\\u092a\\u094d\\u0924\\u093e\\u0928\\u0940 \\u092a\\u093e\\u0930\\u0940 \\u0928\\u0947 \\u091c\\u093f\\u0924\\u093e\\u092f\\u093e #PBKS \\u0915\\u094b \\u0905\\u0939\\u092e \\u092e\\u0941\\u0915\\u093c\\u093e\\u092c\\u0932\\u093e, #KKR \\u0915\\u094b \\u0928\\u0939\\u0940\\u0902 \\u092e\\u093f\\u0932\\u093e \\u0917\\u0947\\u0902\\u0926\\u092c\\u093e\\u091c\\u093c\\u094b\\u0902 \\u0915\\u093e \\u0938\\u093e\\u0925\\u0964 \\u091c\\u0941\\u0921\\u093c\\u093f\\u090f Arjun Pandit, @virendersehwag \\u0914\\u0930 Ajay Jadeja \\u0915\\u0947 \\u0938\\u093e\\u0925, #CricbuzzLive \\u0939\\u093f\\u0928\\u094d\\u0926\\u0940 \\u092a\\u0930\\n\\n#KKRvsPBKS #KLRahul \\n  \\n@My11Circle \\n https://t.co/5wy41tt3Kk\"\n",
      "    },\n",
      "    \"matching_rules\": [\n",
      "        {\n",
      "            \"id\": \"1443997706523856896\",\n",
      "            \"tag\": \"\"\n",
      "        }\n",
      "    ]\n",
      "}\n",
      "{\n",
      "    \"data\": {\n",
      "        \"id\": \"1443999483902062592\",\n",
      "        \"text\": \"Punjab WIN!\\n\\nShahrukh Khan remains calm in the drama of the last few overs to take PBKS to the target and keep their hopes alive \\ud83d\\udc4a\\n\\n#IPL2021 | #KKRvPBKS \\ud83d\\udc47\"\n",
      "    },\n",
      "    \"matching_rules\": [\n",
      "        {\n",
      "            \"id\": \"1443997706523856896\",\n",
      "            \"tag\": \"\"\n",
      "        }\n",
      "    ]\n",
      "}\n"
     ]
    },
    {
     "ename": "KeyboardInterrupt",
     "evalue": "",
     "output_type": "error",
     "traceback": [
      "\u001b[0;31m---------------------------------------------------------------------------\u001b[0m",
      "\u001b[0;31mKeyboardInterrupt\u001b[0m                         Traceback (most recent call last)",
      "\u001b[0;32m/var/folders/fs/cttjz_6d3_gcsbnj77lmrlfw0000gn/T/ipykernel_97646/3149792405.py\u001b[0m in \u001b[0;36m<module>\u001b[0;34m\u001b[0m\n\u001b[0;32m----> 1\u001b[0;31m \u001b[0mrun_stream\u001b[0m\u001b[0;34m(\u001b[0m\u001b[0;34m)\u001b[0m\u001b[0;34m\u001b[0m\u001b[0;34m\u001b[0m\u001b[0m\n\u001b[0m",
      "\u001b[0;32m/var/folders/fs/cttjz_6d3_gcsbnj77lmrlfw0000gn/T/ipykernel_97646/1855672231.py\u001b[0m in \u001b[0;36mrun_stream\u001b[0;34m()\u001b[0m\n\u001b[1;32m      3\u001b[0m     \u001b[0mdelete_rules\u001b[0m\u001b[0;34m(\u001b[0m\u001b[0madded_rules\u001b[0m\u001b[0;34m)\u001b[0m\u001b[0;34m\u001b[0m\u001b[0;34m\u001b[0m\u001b[0m\n\u001b[1;32m      4\u001b[0m     \u001b[0madd_rules\u001b[0m\u001b[0;34m(\u001b[0m\u001b[0mrules\u001b[0m\u001b[0;34m)\u001b[0m\u001b[0;34m\u001b[0m\u001b[0;34m\u001b[0m\u001b[0m\n\u001b[0;32m----> 5\u001b[0;31m     \u001b[0mget_stream\u001b[0m\u001b[0;34m(\u001b[0m\u001b[0;34m)\u001b[0m\u001b[0;34m\u001b[0m\u001b[0;34m\u001b[0m\u001b[0m\n\u001b[0m",
      "\u001b[0;32m/var/folders/fs/cttjz_6d3_gcsbnj77lmrlfw0000gn/T/ipykernel_97646/4034533893.py\u001b[0m in \u001b[0;36mget_stream\u001b[0;34m()\u001b[0m\n\u001b[1;32m      8\u001b[0m     )\n\u001b[1;32m      9\u001b[0m \u001b[0;34m\u001b[0m\u001b[0m\n\u001b[0;32m---> 10\u001b[0;31m     \u001b[0;32mfor\u001b[0m \u001b[0mline\u001b[0m \u001b[0;32min\u001b[0m \u001b[0mresp\u001b[0m\u001b[0;34m.\u001b[0m\u001b[0miter_lines\u001b[0m\u001b[0;34m(\u001b[0m\u001b[0;34m)\u001b[0m\u001b[0;34m:\u001b[0m\u001b[0;34m\u001b[0m\u001b[0;34m\u001b[0m\u001b[0m\n\u001b[0m\u001b[1;32m     11\u001b[0m         \u001b[0;32mif\u001b[0m \u001b[0mline\u001b[0m\u001b[0;34m:\u001b[0m\u001b[0;34m\u001b[0m\u001b[0;34m\u001b[0m\u001b[0m\n\u001b[1;32m     12\u001b[0m             \u001b[0mtweet\u001b[0m \u001b[0;34m=\u001b[0m \u001b[0mjson\u001b[0m\u001b[0;34m.\u001b[0m\u001b[0mloads\u001b[0m\u001b[0;34m(\u001b[0m\u001b[0mline\u001b[0m\u001b[0;34m)\u001b[0m\u001b[0;34m\u001b[0m\u001b[0;34m\u001b[0m\u001b[0m\n",
      "\u001b[0;32m~/.virtualenvs/cheerstream/lib/python3.7/site-packages/requests/models.py\u001b[0m in \u001b[0;36miter_lines\u001b[0;34m(self, chunk_size, decode_unicode, delimiter)\u001b[0m\n\u001b[1;32m    800\u001b[0m         \u001b[0mpending\u001b[0m \u001b[0;34m=\u001b[0m \u001b[0;32mNone\u001b[0m\u001b[0;34m\u001b[0m\u001b[0;34m\u001b[0m\u001b[0m\n\u001b[1;32m    801\u001b[0m \u001b[0;34m\u001b[0m\u001b[0m\n\u001b[0;32m--> 802\u001b[0;31m         \u001b[0;32mfor\u001b[0m \u001b[0mchunk\u001b[0m \u001b[0;32min\u001b[0m \u001b[0mself\u001b[0m\u001b[0;34m.\u001b[0m\u001b[0miter_content\u001b[0m\u001b[0;34m(\u001b[0m\u001b[0mchunk_size\u001b[0m\u001b[0;34m=\u001b[0m\u001b[0mchunk_size\u001b[0m\u001b[0;34m,\u001b[0m \u001b[0mdecode_unicode\u001b[0m\u001b[0;34m=\u001b[0m\u001b[0mdecode_unicode\u001b[0m\u001b[0;34m)\u001b[0m\u001b[0;34m:\u001b[0m\u001b[0;34m\u001b[0m\u001b[0;34m\u001b[0m\u001b[0m\n\u001b[0m\u001b[1;32m    803\u001b[0m \u001b[0;34m\u001b[0m\u001b[0m\n\u001b[1;32m    804\u001b[0m             \u001b[0;32mif\u001b[0m \u001b[0mpending\u001b[0m \u001b[0;32mis\u001b[0m \u001b[0;32mnot\u001b[0m \u001b[0;32mNone\u001b[0m\u001b[0;34m:\u001b[0m\u001b[0;34m\u001b[0m\u001b[0;34m\u001b[0m\u001b[0m\n",
      "\u001b[0;32m~/.virtualenvs/cheerstream/lib/python3.7/site-packages/requests/models.py\u001b[0m in \u001b[0;36mgenerate\u001b[0;34m()\u001b[0m\n\u001b[1;32m    756\u001b[0m             \u001b[0;32mif\u001b[0m \u001b[0mhasattr\u001b[0m\u001b[0;34m(\u001b[0m\u001b[0mself\u001b[0m\u001b[0;34m.\u001b[0m\u001b[0mraw\u001b[0m\u001b[0;34m,\u001b[0m \u001b[0;34m'stream'\u001b[0m\u001b[0;34m)\u001b[0m\u001b[0;34m:\u001b[0m\u001b[0;34m\u001b[0m\u001b[0;34m\u001b[0m\u001b[0m\n\u001b[1;32m    757\u001b[0m                 \u001b[0;32mtry\u001b[0m\u001b[0;34m:\u001b[0m\u001b[0;34m\u001b[0m\u001b[0;34m\u001b[0m\u001b[0m\n\u001b[0;32m--> 758\u001b[0;31m                     \u001b[0;32mfor\u001b[0m \u001b[0mchunk\u001b[0m \u001b[0;32min\u001b[0m \u001b[0mself\u001b[0m\u001b[0;34m.\u001b[0m\u001b[0mraw\u001b[0m\u001b[0;34m.\u001b[0m\u001b[0mstream\u001b[0m\u001b[0;34m(\u001b[0m\u001b[0mchunk_size\u001b[0m\u001b[0;34m,\u001b[0m \u001b[0mdecode_content\u001b[0m\u001b[0;34m=\u001b[0m\u001b[0;32mTrue\u001b[0m\u001b[0;34m)\u001b[0m\u001b[0;34m:\u001b[0m\u001b[0;34m\u001b[0m\u001b[0;34m\u001b[0m\u001b[0m\n\u001b[0m\u001b[1;32m    759\u001b[0m                         \u001b[0;32myield\u001b[0m \u001b[0mchunk\u001b[0m\u001b[0;34m\u001b[0m\u001b[0;34m\u001b[0m\u001b[0m\n\u001b[1;32m    760\u001b[0m                 \u001b[0;32mexcept\u001b[0m \u001b[0mProtocolError\u001b[0m \u001b[0;32mas\u001b[0m \u001b[0me\u001b[0m\u001b[0;34m:\u001b[0m\u001b[0;34m\u001b[0m\u001b[0;34m\u001b[0m\u001b[0m\n",
      "\u001b[0;32m~/.virtualenvs/cheerstream/lib/python3.7/site-packages/urllib3/response.py\u001b[0m in \u001b[0;36mstream\u001b[0;34m(self, amt, decode_content)\u001b[0m\n\u001b[1;32m    570\u001b[0m         \"\"\"\n\u001b[1;32m    571\u001b[0m         \u001b[0;32mif\u001b[0m \u001b[0mself\u001b[0m\u001b[0;34m.\u001b[0m\u001b[0mchunked\u001b[0m \u001b[0;32mand\u001b[0m \u001b[0mself\u001b[0m\u001b[0;34m.\u001b[0m\u001b[0msupports_chunked_reads\u001b[0m\u001b[0;34m(\u001b[0m\u001b[0;34m)\u001b[0m\u001b[0;34m:\u001b[0m\u001b[0;34m\u001b[0m\u001b[0;34m\u001b[0m\u001b[0m\n\u001b[0;32m--> 572\u001b[0;31m             \u001b[0;32mfor\u001b[0m \u001b[0mline\u001b[0m \u001b[0;32min\u001b[0m \u001b[0mself\u001b[0m\u001b[0;34m.\u001b[0m\u001b[0mread_chunked\u001b[0m\u001b[0;34m(\u001b[0m\u001b[0mamt\u001b[0m\u001b[0;34m,\u001b[0m \u001b[0mdecode_content\u001b[0m\u001b[0;34m=\u001b[0m\u001b[0mdecode_content\u001b[0m\u001b[0;34m)\u001b[0m\u001b[0;34m:\u001b[0m\u001b[0;34m\u001b[0m\u001b[0;34m\u001b[0m\u001b[0m\n\u001b[0m\u001b[1;32m    573\u001b[0m                 \u001b[0;32myield\u001b[0m \u001b[0mline\u001b[0m\u001b[0;34m\u001b[0m\u001b[0;34m\u001b[0m\u001b[0m\n\u001b[1;32m    574\u001b[0m         \u001b[0;32melse\u001b[0m\u001b[0;34m:\u001b[0m\u001b[0;34m\u001b[0m\u001b[0;34m\u001b[0m\u001b[0m\n",
      "\u001b[0;32m~/.virtualenvs/cheerstream/lib/python3.7/site-packages/urllib3/response.py\u001b[0m in \u001b[0;36mread_chunked\u001b[0;34m(self, amt, decode_content)\u001b[0m\n\u001b[1;32m    762\u001b[0m \u001b[0;34m\u001b[0m\u001b[0m\n\u001b[1;32m    763\u001b[0m             \u001b[0;32mwhile\u001b[0m \u001b[0;32mTrue\u001b[0m\u001b[0;34m:\u001b[0m\u001b[0;34m\u001b[0m\u001b[0;34m\u001b[0m\u001b[0m\n\u001b[0;32m--> 764\u001b[0;31m                 \u001b[0mself\u001b[0m\u001b[0;34m.\u001b[0m\u001b[0m_update_chunk_length\u001b[0m\u001b[0;34m(\u001b[0m\u001b[0;34m)\u001b[0m\u001b[0;34m\u001b[0m\u001b[0;34m\u001b[0m\u001b[0m\n\u001b[0m\u001b[1;32m    765\u001b[0m                 \u001b[0;32mif\u001b[0m \u001b[0mself\u001b[0m\u001b[0;34m.\u001b[0m\u001b[0mchunk_left\u001b[0m \u001b[0;34m==\u001b[0m \u001b[0;36m0\u001b[0m\u001b[0;34m:\u001b[0m\u001b[0;34m\u001b[0m\u001b[0;34m\u001b[0m\u001b[0m\n\u001b[1;32m    766\u001b[0m                     \u001b[0;32mbreak\u001b[0m\u001b[0;34m\u001b[0m\u001b[0;34m\u001b[0m\u001b[0m\n",
      "\u001b[0;32m~/.virtualenvs/cheerstream/lib/python3.7/site-packages/urllib3/response.py\u001b[0m in \u001b[0;36m_update_chunk_length\u001b[0;34m(self)\u001b[0m\n\u001b[1;32m    692\u001b[0m         \u001b[0;32mif\u001b[0m \u001b[0mself\u001b[0m\u001b[0;34m.\u001b[0m\u001b[0mchunk_left\u001b[0m \u001b[0;32mis\u001b[0m \u001b[0;32mnot\u001b[0m \u001b[0;32mNone\u001b[0m\u001b[0;34m:\u001b[0m\u001b[0;34m\u001b[0m\u001b[0;34m\u001b[0m\u001b[0m\n\u001b[1;32m    693\u001b[0m             \u001b[0;32mreturn\u001b[0m\u001b[0;34m\u001b[0m\u001b[0;34m\u001b[0m\u001b[0m\n\u001b[0;32m--> 694\u001b[0;31m         \u001b[0mline\u001b[0m \u001b[0;34m=\u001b[0m \u001b[0mself\u001b[0m\u001b[0;34m.\u001b[0m\u001b[0m_fp\u001b[0m\u001b[0;34m.\u001b[0m\u001b[0mfp\u001b[0m\u001b[0;34m.\u001b[0m\u001b[0mreadline\u001b[0m\u001b[0;34m(\u001b[0m\u001b[0;34m)\u001b[0m\u001b[0;34m\u001b[0m\u001b[0;34m\u001b[0m\u001b[0m\n\u001b[0m\u001b[1;32m    695\u001b[0m         \u001b[0mline\u001b[0m \u001b[0;34m=\u001b[0m \u001b[0mline\u001b[0m\u001b[0;34m.\u001b[0m\u001b[0msplit\u001b[0m\u001b[0;34m(\u001b[0m\u001b[0;34mb\";\"\u001b[0m\u001b[0;34m,\u001b[0m \u001b[0;36m1\u001b[0m\u001b[0;34m)\u001b[0m\u001b[0;34m[\u001b[0m\u001b[0;36m0\u001b[0m\u001b[0;34m]\u001b[0m\u001b[0;34m\u001b[0m\u001b[0;34m\u001b[0m\u001b[0m\n\u001b[1;32m    696\u001b[0m         \u001b[0;32mtry\u001b[0m\u001b[0;34m:\u001b[0m\u001b[0;34m\u001b[0m\u001b[0;34m\u001b[0m\u001b[0m\n",
      "\u001b[0;32m~/.pyenv/versions/3.7.3/lib/python3.7/socket.py\u001b[0m in \u001b[0;36mreadinto\u001b[0;34m(self, b)\u001b[0m\n\u001b[1;32m    587\u001b[0m         \u001b[0;32mwhile\u001b[0m \u001b[0;32mTrue\u001b[0m\u001b[0;34m:\u001b[0m\u001b[0;34m\u001b[0m\u001b[0;34m\u001b[0m\u001b[0m\n\u001b[1;32m    588\u001b[0m             \u001b[0;32mtry\u001b[0m\u001b[0;34m:\u001b[0m\u001b[0;34m\u001b[0m\u001b[0;34m\u001b[0m\u001b[0m\n\u001b[0;32m--> 589\u001b[0;31m                 \u001b[0;32mreturn\u001b[0m \u001b[0mself\u001b[0m\u001b[0;34m.\u001b[0m\u001b[0m_sock\u001b[0m\u001b[0;34m.\u001b[0m\u001b[0mrecv_into\u001b[0m\u001b[0;34m(\u001b[0m\u001b[0mb\u001b[0m\u001b[0;34m)\u001b[0m\u001b[0;34m\u001b[0m\u001b[0;34m\u001b[0m\u001b[0m\n\u001b[0m\u001b[1;32m    590\u001b[0m             \u001b[0;32mexcept\u001b[0m \u001b[0mtimeout\u001b[0m\u001b[0;34m:\u001b[0m\u001b[0;34m\u001b[0m\u001b[0;34m\u001b[0m\u001b[0m\n\u001b[1;32m    591\u001b[0m                 \u001b[0mself\u001b[0m\u001b[0;34m.\u001b[0m\u001b[0m_timeout_occurred\u001b[0m \u001b[0;34m=\u001b[0m \u001b[0;32mTrue\u001b[0m\u001b[0;34m\u001b[0m\u001b[0;34m\u001b[0m\u001b[0m\n",
      "\u001b[0;32m~/.pyenv/versions/3.7.3/lib/python3.7/ssl.py\u001b[0m in \u001b[0;36mrecv_into\u001b[0;34m(self, buffer, nbytes, flags)\u001b[0m\n\u001b[1;32m   1050\u001b[0m                   \u001b[0;34m\"non-zero flags not allowed in calls to recv_into() on %s\"\u001b[0m \u001b[0;34m%\u001b[0m\u001b[0;34m\u001b[0m\u001b[0;34m\u001b[0m\u001b[0m\n\u001b[1;32m   1051\u001b[0m                   self.__class__)\n\u001b[0;32m-> 1052\u001b[0;31m             \u001b[0;32mreturn\u001b[0m \u001b[0mself\u001b[0m\u001b[0;34m.\u001b[0m\u001b[0mread\u001b[0m\u001b[0;34m(\u001b[0m\u001b[0mnbytes\u001b[0m\u001b[0;34m,\u001b[0m \u001b[0mbuffer\u001b[0m\u001b[0;34m)\u001b[0m\u001b[0;34m\u001b[0m\u001b[0;34m\u001b[0m\u001b[0m\n\u001b[0m\u001b[1;32m   1053\u001b[0m         \u001b[0;32melse\u001b[0m\u001b[0;34m:\u001b[0m\u001b[0;34m\u001b[0m\u001b[0;34m\u001b[0m\u001b[0m\n\u001b[1;32m   1054\u001b[0m             \u001b[0;32mreturn\u001b[0m \u001b[0msuper\u001b[0m\u001b[0;34m(\u001b[0m\u001b[0;34m)\u001b[0m\u001b[0;34m.\u001b[0m\u001b[0mrecv_into\u001b[0m\u001b[0;34m(\u001b[0m\u001b[0mbuffer\u001b[0m\u001b[0;34m,\u001b[0m \u001b[0mnbytes\u001b[0m\u001b[0;34m,\u001b[0m \u001b[0mflags\u001b[0m\u001b[0;34m)\u001b[0m\u001b[0;34m\u001b[0m\u001b[0;34m\u001b[0m\u001b[0m\n",
      "\u001b[0;32m~/.pyenv/versions/3.7.3/lib/python3.7/ssl.py\u001b[0m in \u001b[0;36mread\u001b[0;34m(self, len, buffer)\u001b[0m\n\u001b[1;32m    909\u001b[0m         \u001b[0;32mtry\u001b[0m\u001b[0;34m:\u001b[0m\u001b[0;34m\u001b[0m\u001b[0;34m\u001b[0m\u001b[0m\n\u001b[1;32m    910\u001b[0m             \u001b[0;32mif\u001b[0m \u001b[0mbuffer\u001b[0m \u001b[0;32mis\u001b[0m \u001b[0;32mnot\u001b[0m \u001b[0;32mNone\u001b[0m\u001b[0;34m:\u001b[0m\u001b[0;34m\u001b[0m\u001b[0;34m\u001b[0m\u001b[0m\n\u001b[0;32m--> 911\u001b[0;31m                 \u001b[0;32mreturn\u001b[0m \u001b[0mself\u001b[0m\u001b[0;34m.\u001b[0m\u001b[0m_sslobj\u001b[0m\u001b[0;34m.\u001b[0m\u001b[0mread\u001b[0m\u001b[0;34m(\u001b[0m\u001b[0mlen\u001b[0m\u001b[0;34m,\u001b[0m \u001b[0mbuffer\u001b[0m\u001b[0;34m)\u001b[0m\u001b[0;34m\u001b[0m\u001b[0;34m\u001b[0m\u001b[0m\n\u001b[0m\u001b[1;32m    912\u001b[0m             \u001b[0;32melse\u001b[0m\u001b[0;34m:\u001b[0m\u001b[0;34m\u001b[0m\u001b[0;34m\u001b[0m\u001b[0m\n\u001b[1;32m    913\u001b[0m                 \u001b[0;32mreturn\u001b[0m \u001b[0mself\u001b[0m\u001b[0;34m.\u001b[0m\u001b[0m_sslobj\u001b[0m\u001b[0;34m.\u001b[0m\u001b[0mread\u001b[0m\u001b[0;34m(\u001b[0m\u001b[0mlen\u001b[0m\u001b[0;34m)\u001b[0m\u001b[0;34m\u001b[0m\u001b[0;34m\u001b[0m\u001b[0m\n",
      "\u001b[0;31mKeyboardInterrupt\u001b[0m: "
     ]
    }
   ],
   "source": [
    "run_stream()"
   ]
  },
  {
   "cell_type": "code",
   "execution_count": null,
   "id": "f080de97",
   "metadata": {},
   "outputs": [],
   "source": []
  }
 ],
 "metadata": {
  "kernelspec": {
   "display_name": "Python 3 (ipykernel)",
   "language": "python",
   "name": "python3"
  },
  "language_info": {
   "codemirror_mode": {
    "name": "ipython",
    "version": 3
   },
   "file_extension": ".py",
   "mimetype": "text/x-python",
   "name": "python",
   "nbconvert_exporter": "python",
   "pygments_lexer": "ipython3",
   "version": "3.7.3"
  }
 },
 "nbformat": 4,
 "nbformat_minor": 5
}
