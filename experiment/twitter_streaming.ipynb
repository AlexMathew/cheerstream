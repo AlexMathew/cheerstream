{
 "cells": [
  {
   "cell_type": "code",
   "execution_count": null,
   "id": "4bbd4489",
   "metadata": {},
   "outputs": [],
   "source": [
    "import requests"
   ]
  },
  {
   "cell_type": "code",
   "execution_count": null,
   "id": "fef30914",
   "metadata": {},
   "outputs": [],
   "source": [
    "import os\n",
    "import json"
   ]
  },
  {
   "cell_type": "code",
   "execution_count": null,
   "id": "0ef70054",
   "metadata": {},
   "outputs": [],
   "source": [
    "TWITTER_BEARER_TOKEN = os.getenv(\"TWITTER_BEARER_TOKEN\")"
   ]
  },
  {
   "cell_type": "code",
   "execution_count": null,
   "id": "fe74e098",
   "metadata": {},
   "outputs": [],
   "source": [
    "def get_rules():\n",
    "    resp = requests.get(\n",
    "        \"https://api.twitter.com/2/tweets/search/stream/rules\",\n",
    "        headers={\n",
    "            \"Authorization\": f\"Bearer {TWITTER_BEARER_TOKEN}\",\n",
    "        },\n",
    "    )\n",
    "    \n",
    "    print(json.dumps(resp.json(), indent=4))\n",
    "    return resp.json()"
   ]
  },
  {
   "cell_type": "code",
   "execution_count": null,
   "id": "814af2d4",
   "metadata": {},
   "outputs": [],
   "source": [
    "get_rules()"
   ]
  },
  {
   "cell_type": "code",
   "execution_count": null,
   "id": "a3380dcc",
   "metadata": {},
   "outputs": [],
   "source": [
    "def add_rules(rules):\n",
    "    resp = requests.post(\n",
    "        \"https://api.twitter.com/2/tweets/search/stream/rules\",\n",
    "        json={\"add\": rules},\n",
    "        headers={\n",
    "            \"Authorization\": f\"Bearer {TWITTER_BEARER_TOKEN}\",\n",
    "        },\n",
    "    )\n",
    "\n",
    "    print(json.dumps(resp.json(), indent=4))\n",
    "    return resp.json()"
   ]
  },
  {
   "cell_type": "code",
   "execution_count": null,
   "id": "8b2ecfaa",
   "metadata": {},
   "outputs": [],
   "source": [
    "rules = [\n",
    "    {\"value\": \"from:ipl OR from:cricbuzz OR from:espncricinfo OR from:kkriders OR from:punjabkingsipl\"}\n",
    "#     {\"value\": \"from:ipl\"}\n",
    "]"
   ]
  },
  {
   "cell_type": "code",
   "execution_count": null,
   "id": "9c5de1c1",
   "metadata": {},
   "outputs": [],
   "source": [
    "add_rules(rules)"
   ]
  },
  {
   "cell_type": "code",
   "execution_count": null,
   "id": "ebc73b92",
   "metadata": {},
   "outputs": [],
   "source": [
    "def delete_rules(rules):\n",
    "    if rules[\"meta\"][\"result_count\"] == 0:\n",
    "        return\n",
    "\n",
    "    ids = [rule[\"id\"] for rule in rules[\"data\"]]\n",
    "    resp = requests.post(\n",
    "        \"https://api.twitter.com/2/tweets/search/stream/rules\",\n",
    "        json={\"delete\": {\"ids\": ids}},\n",
    "        headers={\n",
    "            \"Authorization\": f\"Bearer {TWITTER_BEARER_TOKEN}\",\n",
    "        },\n",
    "    )\n",
    "\n",
    "    print(json.dumps(resp.json(), indent=4))\n",
    "    return resp.json()"
   ]
  },
  {
   "cell_type": "code",
   "execution_count": null,
   "id": "6e7c1ea8",
   "metadata": {},
   "outputs": [],
   "source": [
    "added_rules = get_rules()\n",
    "delete_rules(added_rules)"
   ]
  },
  {
   "cell_type": "code",
   "execution_count": null,
   "id": "245f612b",
   "metadata": {},
   "outputs": [],
   "source": [
    "def get_stream():\n",
    "    resp = requests.get(\n",
    "        \"https://api.twitter.com/2/tweets/search/stream\",\n",
    "        stream=True,\n",
    "        headers={\n",
    "            \"Authorization\": f\"Bearer {TWITTER_BEARER_TOKEN}\",\n",
    "        },\n",
    "    )\n",
    "    \n",
    "    for line in resp.iter_lines():\n",
    "        if line:\n",
    "            tweet = json.loads(line)\n",
    "            print(json.dumps(tweet, indent=4, sort_keys=True))"
   ]
  },
  {
   "cell_type": "code",
   "execution_count": null,
   "id": "18ffc518",
   "metadata": {},
   "outputs": [],
   "source": [
    "get_stream()"
   ]
  },
  {
   "cell_type": "code",
   "execution_count": null,
   "id": "89b0b799",
   "metadata": {},
   "outputs": [],
   "source": [
    "def run_stream():\n",
    "    added_rules = get_rules()\n",
    "    delete_rules(added_rules)\n",
    "    add_rules(rules)\n",
    "    get_stream()"
   ]
  },
  {
   "cell_type": "code",
   "execution_count": null,
   "id": "770b56f5",
   "metadata": {},
   "outputs": [],
   "source": [
    "run_stream()"
   ]
  },
  {
   "cell_type": "code",
   "execution_count": null,
   "id": "f080de97",
   "metadata": {},
   "outputs": [],
   "source": []
  }
 ],
 "metadata": {
  "kernelspec": {
   "display_name": "Python 3 (ipykernel)",
   "language": "python",
   "name": "python3"
  },
  "language_info": {
   "codemirror_mode": {
    "name": "ipython",
    "version": 3
   },
   "file_extension": ".py",
   "mimetype": "text/x-python",
   "name": "python",
   "nbconvert_exporter": "python",
   "pygments_lexer": "ipython3",
   "version": "3.7.3"
  }
 },
 "nbformat": 4,
 "nbformat_minor": 5
}
