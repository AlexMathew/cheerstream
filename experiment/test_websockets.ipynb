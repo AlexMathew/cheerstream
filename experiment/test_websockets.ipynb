{
 "cells": [
  {
   "cell_type": "code",
   "execution_count": 1,
   "id": "d5d35bc8",
   "metadata": {},
   "outputs": [],
   "source": [
    "import asyncio\n",
    "import websockets"
   ]
  },
  {
   "cell_type": "code",
   "execution_count": 2,
   "id": "8410e113",
   "metadata": {},
   "outputs": [],
   "source": [
    "ws_address = \"ws://localhost:8000/ws/ipl/match1/\""
   ]
  },
  {
   "cell_type": "code",
   "execution_count": 9,
   "id": "7ba4d216",
   "metadata": {},
   "outputs": [],
   "source": [
    "async def hello(message):\n",
    "    async with websockets.connect(ws_address) as websocket:\n",
    "        print(websocket, message)\n",
    "        await websocket.send(message)"
   ]
  },
  {
   "cell_type": "code",
   "execution_count": 34,
   "id": "1ec0f05d",
   "metadata": {},
   "outputs": [],
   "source": [
    "message = '{\"message\": \"test\"}'"
   ]
  },
  {
   "cell_type": "code",
   "execution_count": 35,
   "id": "3cd4ee47",
   "metadata": {},
   "outputs": [],
   "source": [
    "x = hello(message)"
   ]
  },
  {
   "cell_type": "code",
   "execution_count": 37,
   "id": "4b27bd3f",
   "metadata": {},
   "outputs": [
    {
     "name": "stdout",
     "output_type": "stream",
     "text": [
      "<websockets.legacy.client.WebSocketClientProtocol object at 0x10dfc1da0> {\"message\": \"test\"}\n"
     ]
    },
    {
     "data": {
      "text/plain": [
       "<Future pending>"
      ]
     },
     "execution_count": 37,
     "metadata": {},
     "output_type": "execute_result"
    }
   ],
   "source": [
    "x.send(None)"
   ]
  },
  {
   "cell_type": "code",
   "execution_count": null,
   "id": "1b8f0304",
   "metadata": {},
   "outputs": [],
   "source": []
  }
 ],
 "metadata": {
  "kernelspec": {
   "display_name": "Python 3 (ipykernel)",
   "language": "python",
   "name": "python3"
  },
  "language_info": {
   "codemirror_mode": {
    "name": "ipython",
    "version": 3
   },
   "file_extension": ".py",
   "mimetype": "text/x-python",
   "name": "python",
   "nbconvert_exporter": "python",
   "pygments_lexer": "ipython3",
   "version": "3.7.3"
  }
 },
 "nbformat": 4,
 "nbformat_minor": 5
}
